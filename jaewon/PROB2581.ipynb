{
 "cells": [
  {
   "cell_type": "markdown",
   "metadata": {},
   "source": [
    "## 소수\n",
    "### 문제\n",
    "- 자연수 M과 N이 주어질 때 M이상 N이하의 자연수 중 소수인 것을 모두 골라 이들 소수의 합과 최솟값을 찾는 프로그램을 작성하시오.\n",
    "- 예를 들어 M=60, N=100인 경우 60이상 100이하의 자연수 중 소수는 61, 67, 71, 73, 79, 83, 89, 97 총 8개가 있으므로, 이들 소수의 합은 620이고, 최솟값은 61이 된다.\n",
    "### 입력\n",
    "- 입력의 첫째 줄에 M이, 둘째 줄에 N이 주어진다.\n",
    "- M과 N은 10,000이하의 자연수이며, M은 N보다 작거나 같다.\n",
    "### 출력\n",
    "- M이상 N이하의 자연수 중 소수인 것을 모두 찾아 첫째 줄에 그 합을, 둘째 줄에 그 중 최솟값을 출력한다. \n",
    "- 단, M이상 N이하의 자연수 중 소수가 없을 경우는 첫째 줄에 -1을 출력한다."
   ]
  },
  {
   "cell_type": "code",
   "execution_count": null,
   "metadata": {},
   "outputs": [],
   "source": [
    "'''\n",
    "예제 입력 1 \n",
    "60\n",
    "100\n",
    "예제 출력 1 \n",
    "620\n",
    "61\n",
    "\n",
    "예제 입력 2 \n",
    "64\n",
    "65\n",
    "예제 출력 2 \n",
    "-1\n",
    "'''"
   ]
  },
  {
   "cell_type": "code",
   "execution_count": 3,
   "metadata": {},
   "outputs": [
    {
     "name": "stdout",
     "output_type": "stream",
     "text": [
      "-1\n"
     ]
    }
   ],
   "source": [
    "m = int(input())\n",
    "n = int(input())\n",
    "ans_li = []\n",
    "for i in range(m,n+1):\n",
    "    li = []\n",
    "    for j in range(1,i+1):\n",
    "        if i % j == 0:\n",
    "            li.append(j)\n",
    "    if len(li) == 2:\n",
    "        ans_li.append(i)\n",
    "if ans_li:\n",
    "    print(sum(ans_li))\n",
    "    print(min(ans_li))\n",
    "else:\n",
    "    print(-1)"
   ]
  }
 ],
 "metadata": {
  "kernelspec": {
   "display_name": "Python 3",
   "language": "python",
   "name": "python3"
  },
  "language_info": {
   "codemirror_mode": {
    "name": "ipython",
    "version": 3
   },
   "file_extension": ".py",
   "mimetype": "text/x-python",
   "name": "python",
   "nbconvert_exporter": "python",
   "pygments_lexer": "ipython3",
   "version": "3.9.6"
  }
 },
 "nbformat": 4,
 "nbformat_minor": 2
}
