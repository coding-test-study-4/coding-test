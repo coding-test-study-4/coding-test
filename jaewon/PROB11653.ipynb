{
 "cells": [
  {
   "cell_type": "markdown",
   "metadata": {},
   "source": [
    "## 소인수분해\n",
    "### 문제\n",
    "- 정수 N이 주어졌을 때, 소인수분해하는 프로그램을 작성하시오.\n",
    "### 입력\n",
    "- 첫째 줄에 정수 N (1 ≤ N ≤ 10,000,000)이 주어진다.\n",
    "### 출력\n",
    "- N의 소인수분해 결과를 한 줄에 하나씩 오름차순으로 출력한다. N이 1인 경우 아무것도 출력하지 않는다."
   ]
  },
  {
   "cell_type": "code",
   "execution_count": null,
   "metadata": {},
   "outputs": [],
   "source": [
    "'''\n",
    "예제 입력 1 \n",
    "72\n",
    "예제 출력 1 \n",
    "2\n",
    "2\n",
    "2\n",
    "3\n",
    "3\n",
    "\n",
    "예제 입력 2 \n",
    "3\n",
    "예제 출력 2 \n",
    "3\n",
    "\n",
    "예제 입력 3 \n",
    "6\n",
    "예제 출력 3 \n",
    "2\n",
    "3\n",
    "\n",
    "예제 입력 4 \n",
    "2\n",
    "예제 출력 4 \n",
    "2\n",
    "\n",
    "예제 입력 5 \n",
    "9991\n",
    "예제 출력 5 \n",
    "97\n",
    "103\n",
    "'''"
   ]
  },
  {
   "cell_type": "code",
   "execution_count": 6,
   "metadata": {},
   "outputs": [
    {
     "name": "stdout",
     "output_type": "stream",
     "text": [
      "97\n",
      "103\n"
     ]
    }
   ],
   "source": [
    "n = int(input())\n",
    "ans_li = []\n",
    "i = 2\n",
    "while i <= n:\n",
    "    if n == 1:\n",
    "        break\n",
    "    if n % i == 0:\n",
    "        ans_li.append(i)\n",
    "        n //= i\n",
    "    else:\n",
    "        i += 1\n",
    "for i in ans_li:\n",
    "    print(i)"
   ]
  }
 ],
 "metadata": {
  "kernelspec": {
   "display_name": "Python 3",
   "language": "python",
   "name": "python3"
  },
  "language_info": {
   "codemirror_mode": {
    "name": "ipython",
    "version": 3
   },
   "file_extension": ".py",
   "mimetype": "text/x-python",
   "name": "python",
   "nbconvert_exporter": "python",
   "pygments_lexer": "ipython3",
   "version": "3.9.6"
  }
 },
 "nbformat": 4,
 "nbformat_minor": 2
}
