{
 "cells": [
  {
   "cell_type": "markdown",
   "metadata": {},
   "source": [
    "## 그대로 출력하기\n",
    "### 문제\n",
    "- 입력 받은 대로 출력하는 프로그램을 작성하시오.\n",
    "### 입력\n",
    "- 입력이 주어진다.\n",
    "- 입력은 최대 100줄로 이루어져 있고, 알파벳 소문자, 대문자, 공백, 숫자로만 이루어져 있다.\n",
    "- 각 줄은 100글자를 넘지 않으며, 빈 줄은 주어지지 않는다.\n",
    "- 또, 각 줄은 공백으로 시작하지 않고, 공백으로 끝나지 않는다.\n",
    "### 출력\n",
    "- 입력받은 그대로 출력한다."
   ]
  },
  {
   "cell_type": "code",
   "execution_count": null,
   "metadata": {},
   "outputs": [],
   "source": [
    "'''\n",
    "예제 입력 1 \n",
    "Hello\n",
    "Baekjoon\n",
    "Online Judge\n",
    "\n",
    "예제 출력 1 \n",
    "Hello\n",
    "Baekjoon\n",
    "Online Judge\n",
    "'''"
   ]
  },
  {
   "cell_type": "code",
   "execution_count": 9,
   "metadata": {},
   "outputs": [
    {
     "name": "stdout",
     "output_type": "stream",
     "text": [
      "Hello\n",
      "Baekjoon\n",
      "Online Judge\n",
      "\n"
     ]
    }
   ],
   "source": [
    "while True:\n",
    "    try:\n",
    "        txt = input()\n",
    "        print(txt)\n",
    "        if txt == \"\":\n",
    "            break\n",
    "    except EOFError:\n",
    "        break"
   ]
  }
 ],
 "metadata": {
  "kernelspec": {
   "display_name": "Python 3",
   "language": "python",
   "name": "python3"
  },
  "language_info": {
   "codemirror_mode": {
    "name": "ipython",
    "version": 3
   },
   "file_extension": ".py",
   "mimetype": "text/x-python",
   "name": "python",
   "nbconvert_exporter": "python",
   "pygments_lexer": "ipython3",
   "version": "3.9.12"
  }
 },
 "nbformat": 4,
 "nbformat_minor": 2
}
