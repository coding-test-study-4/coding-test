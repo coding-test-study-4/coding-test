{
 "cells": [
  {
   "cell_type": "markdown",
   "metadata": {},
   "source": [
    "## 단어의 개수\n",
    "### 문제\n",
    "- 영어 대소문자와 공백으로 이루어진 문자열이 주어진다.\n",
    "- 이 문자열에는 몇 개의 단어가 있을까?\n",
    "- 이를 구하는 프로그램을 작성하시오.\n",
    "- 단, 한 단어가 여러 번 등장하면 등장한 횟수만큼 모두 세어야 한다.\n",
    "### 입력\n",
    "- 첫 줄에 영어 대소문자와 공백으로 이루어진 문자열이 주어진다.\n",
    "- 이 문자열의 길이는 1,000,000을 넘지 않는다.\n",
    "- 단어는 공백 한 개로 구분되며, 공백이 연속해서 나오는 경우는 없다.\n",
    "- 또한 문자열은 공백으로 시작하거나 끝날 수 있다.\n",
    "### 출력\n",
    "- 첫째 줄에 단어의 개수를 출력한다."
   ]
  },
  {
   "cell_type": "code",
   "execution_count": null,
   "metadata": {},
   "outputs": [],
   "source": [
    "'''\n",
    "예제 입력 1 \n",
    "The Curious Case of Benjamin Button\n",
    "예제 출력 1 \n",
    "6\n",
    "\n",
    "예제 입력 2 \n",
    " The first character is a blank\n",
    "예제 출력 2 \n",
    "6\n",
    "\n",
    "예제 입력 3 \n",
    "The last character is a blank \n",
    "예제 출력 3 \n",
    "6\n",
    "'''"
   ]
  },
  {
   "cell_type": "code",
   "execution_count": 3,
   "metadata": {},
   "outputs": [
    {
     "name": "stdout",
     "output_type": "stream",
     "text": [
      "6\n"
     ]
    }
   ],
   "source": [
    "s = input().split()\n",
    "print(len(s))"
   ]
  }
 ],
 "metadata": {
  "kernelspec": {
   "display_name": "Python 3",
   "language": "python",
   "name": "python3"
  },
  "language_info": {
   "codemirror_mode": {
    "name": "ipython",
    "version": 3
   },
   "file_extension": ".py",
   "mimetype": "text/x-python",
   "name": "python",
   "nbconvert_exporter": "python",
   "pygments_lexer": "ipython3",
   "version": "3.9.12"
  }
 },
 "nbformat": 4,
 "nbformat_minor": 2
}
