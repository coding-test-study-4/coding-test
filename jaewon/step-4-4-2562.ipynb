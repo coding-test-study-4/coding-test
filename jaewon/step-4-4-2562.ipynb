{
 "cells": [
  {
   "cell_type": "markdown",
   "metadata": {},
   "source": [
    "## 최댓값\n",
    "### 문제\n",
    "- 9개의 서로 다른 자연수가 주어질 때, 이들 중 최댓값을 찾고 그 최댓값이 몇 번째 수인지를 구하는 프로그램을 작성하시오.\n",
    "- 예를 들어, 서로 다른 9개의 자연수\n",
    "- 3, 29, 38, 12, 57, 74, 40, 85, 61\n",
    "- 이 주어지면, 이들 중 최댓값은 85이고, 이 값은 8번째 수이다.\n",
    "### 입력\n",
    "- 첫째 줄부터 아홉 번째 줄까지 한 줄에 하나의 자연수가 주어진다.\n",
    "- 주어지는 자연수는 100 보다 작다.\n",
    "### 출력\n",
    "- 첫째 줄에 최댓값을 출력하고, 둘째 줄에 최댓값이 몇 번째 수인지를 출력한다."
   ]
  },
  {
   "cell_type": "code",
   "execution_count": null,
   "metadata": {},
   "outputs": [],
   "source": [
    "'''\n",
    "예제 입력 1 \n",
    "3\n",
    "29\n",
    "38\n",
    "12\n",
    "57\n",
    "74\n",
    "40\n",
    "85\n",
    "61\n",
    "\n",
    "예제 출력 1 \n",
    "85\n",
    "8\n",
    "'''"
   ]
  },
  {
   "cell_type": "code",
   "execution_count": 16,
   "metadata": {},
   "outputs": [
    {
     "name": "stdout",
     "output_type": "stream",
     "text": [
      "85\n",
      "8\n"
     ]
    }
   ],
   "source": [
    "li = []\n",
    "station = 0\n",
    "\n",
    "for i in range(9):\n",
    "    li.append(int(input()))\n",
    "for i in li:\n",
    "    if station < i:\n",
    "        station = i\n",
    "    else:\n",
    "        continue;\n",
    "\n",
    "print(station)\n",
    "print(li.index(station)+1)"
   ]
  }
 ],
 "metadata": {
  "kernelspec": {
   "display_name": "Python 3",
   "language": "python",
   "name": "python3"
  },
  "language_info": {
   "codemirror_mode": {
    "name": "ipython",
    "version": 3
   },
   "file_extension": ".py",
   "mimetype": "text/x-python",
   "name": "python",
   "nbconvert_exporter": "python",
   "pygments_lexer": "ipython3",
   "version": "3.9.12"
  }
 },
 "nbformat": 4,
 "nbformat_minor": 2
}
