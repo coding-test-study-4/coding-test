{
 "cells": [
  {
   "cell_type": "markdown",
   "metadata": {},
   "source": [
    "## 상수\n",
    "### 문제\n",
    "- 상근이의 동생 상수는 수학을 정말 못한다.\n",
    "- 상수는 숫자를 읽는데 문제가 있다.\n",
    "- 이렇게 수학을 못하는 상수를 위해서 상근이는 수의 크기를 비교하는 문제를 내주었다.\n",
    "- 상근이는 세 자리 수 두 개를 칠판에 써주었다.\n",
    "- 그 다음에 크기가 큰 수를 말해보라고 했다.\n",
    "- 상수는 수를 다른 사람과 다르게 거꾸로 읽는다.\n",
    "- 예를 들어, 734와 893을 칠판에 적었다면, 상수는 이 수를 437과 398로 읽는다.\n",
    "- 따라서, 상수는 두 수중 큰 수인 437을 큰 수라고 말할 것이다.\n",
    "- 두 수가 주어졌을 때, 상수의 대답을 출력하는 프로그램을 작성하시오.\n",
    "### 입력\n",
    "- 첫째 줄에 상근이가 칠판에 적은 두 수 A와 B가 주어진다.\n",
    "- 두 수는 같지 않은 세 자리 수이며, 0이 포함되어 있지 않다.\n",
    "### 출력\n",
    "- 첫째 줄에 상수의 대답을 출력한다."
   ]
  },
  {
   "cell_type": "code",
   "execution_count": null,
   "metadata": {},
   "outputs": [],
   "source": [
    "'''\n",
    "예제 입력 1 \n",
    "734 893\n",
    "예제 출력 1 \n",
    "437\n",
    "\n",
    "예제 입력 2 \n",
    "221 231\n",
    "예제 출력 2 \n",
    "132\n",
    "\n",
    "예제 입력 3 \n",
    "839 237\n",
    "예제 출력 3 \n",
    "938\n",
    "'''"
   ]
  },
  {
   "cell_type": "code",
   "execution_count": 11,
   "metadata": {},
   "outputs": [
    {
     "name": "stdout",
     "output_type": "stream",
     "text": [
      "938\n"
     ]
    }
   ],
   "source": [
    "a, b = input().split()\n",
    "new_a, new_b = \"\", \"\"\n",
    "for i in reversed(range(3)):\n",
    "    new_a += a[i]\n",
    "    new_b += b[i]\n",
    "if int(new_a) > int(new_b):\n",
    "    print(new_a)\n",
    "else:\n",
    "    print(new_b)"
   ]
  }
 ],
 "metadata": {
  "kernelspec": {
   "display_name": "Python 3",
   "language": "python",
   "name": "python3"
  },
  "language_info": {
   "codemirror_mode": {
    "name": "ipython",
    "version": 3
   },
   "file_extension": ".py",
   "mimetype": "text/x-python",
   "name": "python",
   "nbconvert_exporter": "python",
   "pygments_lexer": "ipython3",
   "version": "3.9.12"
  }
 },
 "nbformat": 4,
 "nbformat_minor": 2
}
