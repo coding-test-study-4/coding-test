{
 "cells": [
  {
   "cell_type": "markdown",
   "metadata": {},
   "source": [
    "## 약수들의 합\n",
    "### 문제\n",
    "- 어떤 숫자 n이 자신을 제외한 모든 약수들의 합과 같으면, 그 수를 완전수라고 한다.\n",
    "- 예를 들어 6은 6 = 1 + 2 + 3 으로 완전수이다.\n",
    "- n이 완전수인지 아닌지 판단해주는 프로그램을 작성하라.\n",
    "### 입력\n",
    "- 입력은 테스트 케이스마다 한 줄 간격으로 n이 주어진다. (2 < n < 100,000)\n",
    "- 입력의 마지막엔 -1이 주어진다.\n",
    "### 출력\n",
    "- 테스트케이스 마다 한줄에 하나씩 출력해야 한다.\n",
    "- n이 완전수라면, n을 n이 아닌 약수들의 합으로 나타내어 출력한다(예제 출력 참고).\n",
    "- 이때, 약수들은 오름차순으로 나열해야 한다.\n",
    "- n이 완전수가 아니라면 n is NOT perfect. 를 출력한다."
   ]
  },
  {
   "cell_type": "code",
   "execution_count": null,
   "metadata": {},
   "outputs": [],
   "source": [
    "'''\n",
    "예제 입력 1 \n",
    "6\n",
    "12\n",
    "28\n",
    "-1\n",
    "\n",
    "예제 출력 1 \n",
    "6 = 1 + 2 + 3\n",
    "12 is NOT perfect.\n",
    "28 = 1 + 2 + 4 + 7 + 14\n",
    "'''"
   ]
  },
  {
   "cell_type": "code",
   "execution_count": 1,
   "metadata": {},
   "outputs": [
    {
     "name": "stdout",
     "output_type": "stream",
     "text": [
      "6 = 1 + 2 + 3\n",
      "12 is NOT perfect.\n",
      "28 = 1 + 2 + 4 + 7 + 14\n"
     ]
    }
   ],
   "source": [
    "while True:\n",
    "    n = int(input())\n",
    "    if n == -1:\n",
    "        break\n",
    "    li = []\n",
    "    for i in range(1,n//2+1):\n",
    "        if n % i == 0:\n",
    "            li.append(i)\n",
    "    if sum(li) == n:\n",
    "        print(n, \" = \", \" + \".join(map(str, li)), sep=\"\")\n",
    "    else:\n",
    "        print(n, \"is NOT perfect.\")"
   ]
  }
 ],
 "metadata": {
  "kernelspec": {
   "display_name": "Python 3",
   "language": "python",
   "name": "python3"
  },
  "language_info": {
   "codemirror_mode": {
    "name": "ipython",
    "version": 3
   },
   "file_extension": ".py",
   "mimetype": "text/x-python",
   "name": "python",
   "nbconvert_exporter": "python",
   "pygments_lexer": "ipython3",
   "version": "3.9.6"
  }
 },
 "nbformat": 4,
 "nbformat_minor": 2
}
