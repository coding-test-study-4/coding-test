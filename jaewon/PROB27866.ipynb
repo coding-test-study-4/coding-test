{
 "cells": [
  {
   "cell_type": "markdown",
   "metadata": {},
   "source": [
    "## 문자와 문자열\n",
    "### 문제\n",
    "- 단어 $S$와 정수 $i$가 주어졌을 때, $S$의 $i$번째 글자를 출력하는 프로그램을 작성하시오.\n",
    "### 입력\n",
    "- 첫째 줄에 영어 소문자와 대문자로만 이루어진 단어 $S$가 주어진다. 단어의 길이는 최대 $1\\,000$이다.\n",
    "- 둘째 줄에 정수 $i$가 주어진다. ($1 \\le i \\le \\left|S\\right|$)\n",
    "### 출력\n",
    "- $S$의 $i$번째 글자를 출력한다."
   ]
  },
  {
   "cell_type": "code",
   "execution_count": null,
   "metadata": {},
   "outputs": [],
   "source": [
    "'''\n",
    "예제 입력 1 \n",
    "Sprout\n",
    "3\n",
    "예제 출력 1 \n",
    "r\n",
    "\n",
    "예제 입력 2 \n",
    "shiftpsh\n",
    "6\n",
    "예제 출력 2 \n",
    "p\n",
    "\n",
    "예제 입력 3 \n",
    "Baekjoon\n",
    "4\n",
    "예제 출력 3 \n",
    "k\n",
    "'''"
   ]
  },
  {
   "cell_type": "code",
   "execution_count": 1,
   "metadata": {},
   "outputs": [
    {
     "name": "stdout",
     "output_type": "stream",
     "text": [
      "k\n"
     ]
    }
   ],
   "source": [
    "s = input()\n",
    "i = int(input())\n",
    "print(s[i-1])"
   ]
  }
 ],
 "metadata": {
  "kernelspec": {
   "display_name": "Python 3",
   "language": "python",
   "name": "python3"
  },
  "language_info": {
   "codemirror_mode": {
    "name": "ipython",
    "version": 3
   },
   "file_extension": ".py",
   "mimetype": "text/x-python",
   "name": "python",
   "nbconvert_exporter": "python",
   "pygments_lexer": "ipython3",
   "version": "3.9.12"
  }
 },
 "nbformat": 4,
 "nbformat_minor": 2
}
