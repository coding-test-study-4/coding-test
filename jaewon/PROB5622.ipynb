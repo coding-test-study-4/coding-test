{
 "cells": [
  {
   "cell_type": "markdown",
   "metadata": {},
   "source": [
    "## 다이얼\n",
    "### 문제\n",
    "- 상근이의 할머니는 아래 그림과 같이 오래된 다이얼 전화기를 사용한다.\n",
    "- 전화를 걸고 싶은 번호가 있다면, 숫자를 하나를 누른 다음에 금속 핀이 있는 곳 까지 시계방향으로 돌려야 한다.\n",
    "- 숫자를 하나 누르면 다이얼이 처음 위치로 돌아가고, 다음 숫자를 누르려면 다이얼을 처음 위치에서 다시 돌려야 한다.\n",
    "- 숫자 1을 걸려면 총 2초가 필요하다. 1보다 큰 수를 거는데 걸리는 시간은 이보다 더 걸리며, 한 칸 옆에 있는 숫자를 걸기 위해선 1초씩 더 걸린다.\n",
    "- 상근이의 할머니는 전화 번호를 각 숫자에 해당하는 문자로 외운다.\n",
    "- 즉, 어떤 단어를 걸 때, 각 알파벳에 해당하는 숫자를 걸면 된다.\n",
    "- 예를 들어, UNUCIC는 868242와 같다.\n",
    "- 할머니가 외운 단어가 주어졌을 때, 이 전화를 걸기 위해서 필요한 최소 시간을 구하는 프로그램을 작성하시오.\n",
    "### 입력\n",
    "- 첫째 줄에 알파벳 대문자로 이루어진 단어가 주어진다.\n",
    "- 단어의 길이는 2보다 크거나 같고, 15보다 작거나 같다.\n",
    "### 출력\n",
    "- 첫째 줄에 다이얼을 걸기 위해서 필요한 최소 시간을 출력한다."
   ]
  },
  {
   "cell_type": "code",
   "execution_count": null,
   "metadata": {},
   "outputs": [],
   "source": [
    "'''\n",
    "예제 입력 1 \n",
    "WA\n",
    "예제 출력 1 \n",
    "13\n",
    "\n",
    "예제 입력 2 \n",
    "UNUCIC\n",
    "예제 출력 2 \n",
    "36\n",
    "'''"
   ]
  },
  {
   "cell_type": "code",
   "execution_count": 12,
   "metadata": {},
   "outputs": [
    {
     "name": "stdout",
     "output_type": "stream",
     "text": [
      "36\n"
     ]
    }
   ],
   "source": [
    "word = [*input()]\n",
    "dial = {\"ABC\":2, \"DEF\":3, \"GHI\":4, \"JKL\":5, \"MNO\":6, \"PQRS\":7, \"TUV\":8, \"WXYZ\":9}\n",
    "time = 0\n",
    "for i in word:\n",
    "    for j in dial:\n",
    "          if i in j:\n",
    "                time += dial[j]+1\n",
    "print(time)"
   ]
  }
 ],
 "metadata": {
  "kernelspec": {
   "display_name": "Python 3",
   "language": "python",
   "name": "python3"
  },
  "language_info": {
   "codemirror_mode": {
    "name": "ipython",
    "version": 3
   },
   "file_extension": ".py",
   "mimetype": "text/x-python",
   "name": "python",
   "nbconvert_exporter": "python",
   "pygments_lexer": "ipython3",
   "version": "3.9.12"
  }
 },
 "nbformat": 4,
 "nbformat_minor": 2
}
