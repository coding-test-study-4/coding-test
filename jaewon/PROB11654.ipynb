{
 "cells": [
  {
   "cell_type": "markdown",
   "metadata": {},
   "source": [
    "## 아스키 코드\n",
    "### 문제\n",
    "- 알파벳 소문자, 대문자, 숫자 0-9중 하나가 주어졌을 때, 주어진 글자의 아스키 코드값을 출력하는 프로그램을 작성하시오.\n",
    "### 입력\n",
    "- 알파벳 소문자, 대문자, 숫자 0-9 중 하나가 첫째 줄에 주어진다.\n",
    "### 출력\n",
    "- 입력으로 주어진 글자의 아스키 코드 값을 출력한다."
   ]
  },
  {
   "cell_type": "code",
   "execution_count": null,
   "metadata": {},
   "outputs": [],
   "source": [
    "'''\n",
    "예제 입력 1 \n",
    "A\n",
    "예제 출력 1 \n",
    "65\n",
    "\n",
    "예제 입력 2 \n",
    "C\n",
    "예제 출력 2 \n",
    "67\n",
    "\n",
    "예제 입력 3 \n",
    "0\n",
    "예제 출력 3 \n",
    "48\n",
    "\n",
    "예제 입력 4 \n",
    "9\n",
    "예제 출력 4 \n",
    "57\n",
    "\n",
    "예제 입력 5 \n",
    "a\n",
    "예제 출력 5 \n",
    "97\n",
    "\n",
    "예제 입력 6 \n",
    "z\n",
    "예제 출력 6 \n",
    "122\n",
    "'''"
   ]
  },
  {
   "cell_type": "code",
   "execution_count": 7,
   "metadata": {},
   "outputs": [
    {
     "name": "stdout",
     "output_type": "stream",
     "text": [
      "122\n"
     ]
    }
   ],
   "source": [
    "s = input()\n",
    "print(ord(s))"
   ]
  }
 ],
 "metadata": {
  "kernelspec": {
   "display_name": "Python 3",
   "language": "python",
   "name": "python3"
  },
  "language_info": {
   "codemirror_mode": {
    "name": "ipython",
    "version": 3
   },
   "file_extension": ".py",
   "mimetype": "text/x-python",
   "name": "python",
   "nbconvert_exporter": "python",
   "pygments_lexer": "ipython3",
   "version": "3.9.12"
  }
 },
 "nbformat": 4,
 "nbformat_minor": 2
}
